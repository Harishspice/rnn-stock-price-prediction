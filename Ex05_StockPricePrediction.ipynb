{
  "nbformat": 4,
  "nbformat_minor": 0,
  "metadata": {
    "colab": {
      "provenance": [],
      "authorship_tag": "ABX9TyN/lelRYH2/tGq7e/ur0LVd",
      "include_colab_link": true
    },
    "kernelspec": {
      "name": "python3",
      "display_name": "Python 3"
    },
    "language_info": {
      "name": "python"
    }
  },
  "cells": [
    {
      "cell_type": "markdown",
      "metadata": {
        "id": "view-in-github",
        "colab_type": "text"
      },
      "source": [
        "<a href=\"https://colab.research.google.com/github/Harishspice/rnn-stock-price-prediction/blob/main/Ex05_StockPricePrediction.ipynb\" target=\"_parent\"><img src=\"https://colab.research.google.com/assets/colab-badge.svg\" alt=\"Open In Colab\"/></a>"
      ]
    },
    {
      "cell_type": "markdown",
      "source": [
        "Name: HARISH R\n",
        "\n",
        "REG NO: 212222110012"
      ],
      "metadata": {
        "id": "7orAoh2eL96d"
      }
    },
    {
      "cell_type": "code",
      "source": [
        "import numpy as np\n",
        "import matplotlib.pyplot as plt\n",
        "import pandas as pd\n",
        "from sklearn.preprocessing import MinMaxScaler\n",
        "from keras import layers\n",
        "from keras.models import Sequential"
      ],
      "metadata": {
        "id": "cZwePP_IzkP_"
      },
      "execution_count": 3,
      "outputs": []
    },
    {
      "cell_type": "code",
      "source": [
        "dataset_train = pd.read_csv('trainset.csv')\n"
      ],
      "metadata": {
        "id": "ho7_FHHMzknb"
      },
      "execution_count": 4,
      "outputs": []
    },
    {
      "cell_type": "code",
      "source": [
        "dataset_train.columns\n"
      ],
      "metadata": {
        "colab": {
          "base_uri": "https://localhost:8080/"
        },
        "id": "GABVuTyCzq66",
        "outputId": "bef01863-337f-4134-a160-7cecab4ae42a"
      },
      "execution_count": 5,
      "outputs": [
        {
          "output_type": "execute_result",
          "data": {
            "text/plain": [
              "Index(['Date', 'Open', 'High', 'Low', 'Close', 'Adj Close', 'Volume'], dtype='object')"
            ]
          },
          "metadata": {},
          "execution_count": 5
        }
      ]
    },
    {
      "cell_type": "code",
      "source": [
        "dataset_train.head()\n"
      ],
      "metadata": {
        "colab": {
          "base_uri": "https://localhost:8080/",
          "height": 206
        },
        "id": "hqOQz1xz0K1c",
        "outputId": "6cea795e-a382-4259-ad28-883a38cfe6f9"
      },
      "execution_count": 6,
      "outputs": [
        {
          "output_type": "execute_result",
          "data": {
            "text/plain": [
              "         Date        Open        High         Low       Close   Adj Close  \\\n",
              "0  2013-01-02  357.385559  361.151062  355.959839  359.288177  359.288177   \n",
              "1  2013-01-03  360.122742  363.600128  358.031342  359.496826  359.496826   \n",
              "2  2013-01-04  362.313507  368.339294  361.488861  366.600616  366.600616   \n",
              "3  2013-01-07  365.348755  367.301056  362.929504  365.001007  365.001007   \n",
              "4  2013-01-08  365.393463  365.771027  359.874359  364.280701  364.280701   \n",
              "\n",
              "    Volume  \n",
              "0  5115500  \n",
              "1  4666500  \n",
              "2  5562800  \n",
              "3  3332900  \n",
              "4  3373900  "
            ],
            "text/html": [
              "\n",
              "  <div id=\"df-f802f14d-8db2-4654-97d2-30731f0721ec\" class=\"colab-df-container\">\n",
              "    <div>\n",
              "<style scoped>\n",
              "    .dataframe tbody tr th:only-of-type {\n",
              "        vertical-align: middle;\n",
              "    }\n",
              "\n",
              "    .dataframe tbody tr th {\n",
              "        vertical-align: top;\n",
              "    }\n",
              "\n",
              "    .dataframe thead th {\n",
              "        text-align: right;\n",
              "    }\n",
              "</style>\n",
              "<table border=\"1\" class=\"dataframe\">\n",
              "  <thead>\n",
              "    <tr style=\"text-align: right;\">\n",
              "      <th></th>\n",
              "      <th>Date</th>\n",
              "      <th>Open</th>\n",
              "      <th>High</th>\n",
              "      <th>Low</th>\n",
              "      <th>Close</th>\n",
              "      <th>Adj Close</th>\n",
              "      <th>Volume</th>\n",
              "    </tr>\n",
              "  </thead>\n",
              "  <tbody>\n",
              "    <tr>\n",
              "      <th>0</th>\n",
              "      <td>2013-01-02</td>\n",
              "      <td>357.385559</td>\n",
              "      <td>361.151062</td>\n",
              "      <td>355.959839</td>\n",
              "      <td>359.288177</td>\n",
              "      <td>359.288177</td>\n",
              "      <td>5115500</td>\n",
              "    </tr>\n",
              "    <tr>\n",
              "      <th>1</th>\n",
              "      <td>2013-01-03</td>\n",
              "      <td>360.122742</td>\n",
              "      <td>363.600128</td>\n",
              "      <td>358.031342</td>\n",
              "      <td>359.496826</td>\n",
              "      <td>359.496826</td>\n",
              "      <td>4666500</td>\n",
              "    </tr>\n",
              "    <tr>\n",
              "      <th>2</th>\n",
              "      <td>2013-01-04</td>\n",
              "      <td>362.313507</td>\n",
              "      <td>368.339294</td>\n",
              "      <td>361.488861</td>\n",
              "      <td>366.600616</td>\n",
              "      <td>366.600616</td>\n",
              "      <td>5562800</td>\n",
              "    </tr>\n",
              "    <tr>\n",
              "      <th>3</th>\n",
              "      <td>2013-01-07</td>\n",
              "      <td>365.348755</td>\n",
              "      <td>367.301056</td>\n",
              "      <td>362.929504</td>\n",
              "      <td>365.001007</td>\n",
              "      <td>365.001007</td>\n",
              "      <td>3332900</td>\n",
              "    </tr>\n",
              "    <tr>\n",
              "      <th>4</th>\n",
              "      <td>2013-01-08</td>\n",
              "      <td>365.393463</td>\n",
              "      <td>365.771027</td>\n",
              "      <td>359.874359</td>\n",
              "      <td>364.280701</td>\n",
              "      <td>364.280701</td>\n",
              "      <td>3373900</td>\n",
              "    </tr>\n",
              "  </tbody>\n",
              "</table>\n",
              "</div>\n",
              "    <div class=\"colab-df-buttons\">\n",
              "\n",
              "  <div class=\"colab-df-container\">\n",
              "    <button class=\"colab-df-convert\" onclick=\"convertToInteractive('df-f802f14d-8db2-4654-97d2-30731f0721ec')\"\n",
              "            title=\"Convert this dataframe to an interactive table.\"\n",
              "            style=\"display:none;\">\n",
              "\n",
              "  <svg xmlns=\"http://www.w3.org/2000/svg\" height=\"24px\" viewBox=\"0 -960 960 960\">\n",
              "    <path d=\"M120-120v-720h720v720H120Zm60-500h600v-160H180v160Zm220 220h160v-160H400v160Zm0 220h160v-160H400v160ZM180-400h160v-160H180v160Zm440 0h160v-160H620v160ZM180-180h160v-160H180v160Zm440 0h160v-160H620v160Z\"/>\n",
              "  </svg>\n",
              "    </button>\n",
              "\n",
              "  <style>\n",
              "    .colab-df-container {\n",
              "      display:flex;\n",
              "      gap: 12px;\n",
              "    }\n",
              "\n",
              "    .colab-df-convert {\n",
              "      background-color: #E8F0FE;\n",
              "      border: none;\n",
              "      border-radius: 50%;\n",
              "      cursor: pointer;\n",
              "      display: none;\n",
              "      fill: #1967D2;\n",
              "      height: 32px;\n",
              "      padding: 0 0 0 0;\n",
              "      width: 32px;\n",
              "    }\n",
              "\n",
              "    .colab-df-convert:hover {\n",
              "      background-color: #E2EBFA;\n",
              "      box-shadow: 0px 1px 2px rgba(60, 64, 67, 0.3), 0px 1px 3px 1px rgba(60, 64, 67, 0.15);\n",
              "      fill: #174EA6;\n",
              "    }\n",
              "\n",
              "    .colab-df-buttons div {\n",
              "      margin-bottom: 4px;\n",
              "    }\n",
              "\n",
              "    [theme=dark] .colab-df-convert {\n",
              "      background-color: #3B4455;\n",
              "      fill: #D2E3FC;\n",
              "    }\n",
              "\n",
              "    [theme=dark] .colab-df-convert:hover {\n",
              "      background-color: #434B5C;\n",
              "      box-shadow: 0px 1px 3px 1px rgba(0, 0, 0, 0.15);\n",
              "      filter: drop-shadow(0px 1px 2px rgba(0, 0, 0, 0.3));\n",
              "      fill: #FFFFFF;\n",
              "    }\n",
              "  </style>\n",
              "\n",
              "    <script>\n",
              "      const buttonEl =\n",
              "        document.querySelector('#df-f802f14d-8db2-4654-97d2-30731f0721ec button.colab-df-convert');\n",
              "      buttonEl.style.display =\n",
              "        google.colab.kernel.accessAllowed ? 'block' : 'none';\n",
              "\n",
              "      async function convertToInteractive(key) {\n",
              "        const element = document.querySelector('#df-f802f14d-8db2-4654-97d2-30731f0721ec');\n",
              "        const dataTable =\n",
              "          await google.colab.kernel.invokeFunction('convertToInteractive',\n",
              "                                                    [key], {});\n",
              "        if (!dataTable) return;\n",
              "\n",
              "        const docLinkHtml = 'Like what you see? Visit the ' +\n",
              "          '<a target=\"_blank\" href=https://colab.research.google.com/notebooks/data_table.ipynb>data table notebook</a>'\n",
              "          + ' to learn more about interactive tables.';\n",
              "        element.innerHTML = '';\n",
              "        dataTable['output_type'] = 'display_data';\n",
              "        await google.colab.output.renderOutput(dataTable, element);\n",
              "        const docLink = document.createElement('div');\n",
              "        docLink.innerHTML = docLinkHtml;\n",
              "        element.appendChild(docLink);\n",
              "      }\n",
              "    </script>\n",
              "  </div>\n",
              "\n",
              "\n",
              "<div id=\"df-82b353fa-eaa8-4eea-bc4a-3baf7c9a2728\">\n",
              "  <button class=\"colab-df-quickchart\" onclick=\"quickchart('df-82b353fa-eaa8-4eea-bc4a-3baf7c9a2728')\"\n",
              "            title=\"Suggest charts\"\n",
              "            style=\"display:none;\">\n",
              "\n",
              "<svg xmlns=\"http://www.w3.org/2000/svg\" height=\"24px\"viewBox=\"0 0 24 24\"\n",
              "     width=\"24px\">\n",
              "    <g>\n",
              "        <path d=\"M19 3H5c-1.1 0-2 .9-2 2v14c0 1.1.9 2 2 2h14c1.1 0 2-.9 2-2V5c0-1.1-.9-2-2-2zM9 17H7v-7h2v7zm4 0h-2V7h2v10zm4 0h-2v-4h2v4z\"/>\n",
              "    </g>\n",
              "</svg>\n",
              "  </button>\n",
              "\n",
              "<style>\n",
              "  .colab-df-quickchart {\n",
              "      --bg-color: #E8F0FE;\n",
              "      --fill-color: #1967D2;\n",
              "      --hover-bg-color: #E2EBFA;\n",
              "      --hover-fill-color: #174EA6;\n",
              "      --disabled-fill-color: #AAA;\n",
              "      --disabled-bg-color: #DDD;\n",
              "  }\n",
              "\n",
              "  [theme=dark] .colab-df-quickchart {\n",
              "      --bg-color: #3B4455;\n",
              "      --fill-color: #D2E3FC;\n",
              "      --hover-bg-color: #434B5C;\n",
              "      --hover-fill-color: #FFFFFF;\n",
              "      --disabled-bg-color: #3B4455;\n",
              "      --disabled-fill-color: #666;\n",
              "  }\n",
              "\n",
              "  .colab-df-quickchart {\n",
              "    background-color: var(--bg-color);\n",
              "    border: none;\n",
              "    border-radius: 50%;\n",
              "    cursor: pointer;\n",
              "    display: none;\n",
              "    fill: var(--fill-color);\n",
              "    height: 32px;\n",
              "    padding: 0;\n",
              "    width: 32px;\n",
              "  }\n",
              "\n",
              "  .colab-df-quickchart:hover {\n",
              "    background-color: var(--hover-bg-color);\n",
              "    box-shadow: 0 1px 2px rgba(60, 64, 67, 0.3), 0 1px 3px 1px rgba(60, 64, 67, 0.15);\n",
              "    fill: var(--button-hover-fill-color);\n",
              "  }\n",
              "\n",
              "  .colab-df-quickchart-complete:disabled,\n",
              "  .colab-df-quickchart-complete:disabled:hover {\n",
              "    background-color: var(--disabled-bg-color);\n",
              "    fill: var(--disabled-fill-color);\n",
              "    box-shadow: none;\n",
              "  }\n",
              "\n",
              "  .colab-df-spinner {\n",
              "    border: 2px solid var(--fill-color);\n",
              "    border-color: transparent;\n",
              "    border-bottom-color: var(--fill-color);\n",
              "    animation:\n",
              "      spin 1s steps(1) infinite;\n",
              "  }\n",
              "\n",
              "  @keyframes spin {\n",
              "    0% {\n",
              "      border-color: transparent;\n",
              "      border-bottom-color: var(--fill-color);\n",
              "      border-left-color: var(--fill-color);\n",
              "    }\n",
              "    20% {\n",
              "      border-color: transparent;\n",
              "      border-left-color: var(--fill-color);\n",
              "      border-top-color: var(--fill-color);\n",
              "    }\n",
              "    30% {\n",
              "      border-color: transparent;\n",
              "      border-left-color: var(--fill-color);\n",
              "      border-top-color: var(--fill-color);\n",
              "      border-right-color: var(--fill-color);\n",
              "    }\n",
              "    40% {\n",
              "      border-color: transparent;\n",
              "      border-right-color: var(--fill-color);\n",
              "      border-top-color: var(--fill-color);\n",
              "    }\n",
              "    60% {\n",
              "      border-color: transparent;\n",
              "      border-right-color: var(--fill-color);\n",
              "    }\n",
              "    80% {\n",
              "      border-color: transparent;\n",
              "      border-right-color: var(--fill-color);\n",
              "      border-bottom-color: var(--fill-color);\n",
              "    }\n",
              "    90% {\n",
              "      border-color: transparent;\n",
              "      border-bottom-color: var(--fill-color);\n",
              "    }\n",
              "  }\n",
              "</style>\n",
              "\n",
              "  <script>\n",
              "    async function quickchart(key) {\n",
              "      const quickchartButtonEl =\n",
              "        document.querySelector('#' + key + ' button');\n",
              "      quickchartButtonEl.disabled = true;  // To prevent multiple clicks.\n",
              "      quickchartButtonEl.classList.add('colab-df-spinner');\n",
              "      try {\n",
              "        const charts = await google.colab.kernel.invokeFunction(\n",
              "            'suggestCharts', [key], {});\n",
              "      } catch (error) {\n",
              "        console.error('Error during call to suggestCharts:', error);\n",
              "      }\n",
              "      quickchartButtonEl.classList.remove('colab-df-spinner');\n",
              "      quickchartButtonEl.classList.add('colab-df-quickchart-complete');\n",
              "    }\n",
              "    (() => {\n",
              "      let quickchartButtonEl =\n",
              "        document.querySelector('#df-82b353fa-eaa8-4eea-bc4a-3baf7c9a2728 button');\n",
              "      quickchartButtonEl.style.display =\n",
              "        google.colab.kernel.accessAllowed ? 'block' : 'none';\n",
              "    })();\n",
              "  </script>\n",
              "</div>\n",
              "\n",
              "    </div>\n",
              "  </div>\n"
            ],
            "application/vnd.google.colaboratory.intrinsic+json": {
              "type": "dataframe",
              "variable_name": "dataset_train",
              "summary": "{\n  \"name\": \"dataset_train\",\n  \"rows\": 1259,\n  \"fields\": [\n    {\n      \"column\": \"Date\",\n      \"properties\": {\n        \"dtype\": \"object\",\n        \"num_unique_values\": 1259,\n        \"samples\": [\n          \"2013-04-23\",\n          \"2017-01-30\",\n          \"2013-03-06\"\n        ],\n        \"semantic_type\": \"\",\n        \"description\": \"\"\n      }\n    },\n    {\n      \"column\": \"Open\",\n      \"properties\": {\n        \"dtype\": \"number\",\n        \"std\": 175.63057351209417,\n        \"min\": 350.053253,\n        \"max\": 1075.199951,\n        \"num_unique_values\": 1228,\n        \"samples\": [\n          727.580017,\n          524.118103,\n          553.40564\n        ],\n        \"semantic_type\": \"\",\n        \"description\": \"\"\n      }\n    },\n    {\n      \"column\": \"High\",\n      \"properties\": {\n        \"dtype\": \"number\",\n        \"std\": 176.62741611717948,\n        \"min\": 350.391052,\n        \"max\": 1078.48999,\n        \"num_unique_values\": 1239,\n        \"samples\": [\n          580.309143,\n          577.489014,\n          517.056946\n        ],\n        \"semantic_type\": \"\",\n        \"description\": \"\"\n      }\n    },\n    {\n      \"column\": \"Low\",\n      \"properties\": {\n        \"dtype\": \"number\",\n        \"std\": 174.73281352959697,\n        \"min\": 345.512787,\n        \"max\": 1063.550049,\n        \"num_unique_values\": 1240,\n        \"samples\": [\n          576.052551,\n          568.403076,\n          518.469177\n        ],\n        \"semantic_type\": \"\",\n        \"description\": \"\"\n      }\n    },\n    {\n      \"column\": \"Close\",\n      \"properties\": {\n        \"dtype\": \"number\",\n        \"std\": 175.82099273815913,\n        \"min\": 349.164032,\n        \"max\": 1077.140015,\n        \"num_unique_values\": 1245,\n        \"samples\": [\n          749.460022,\n          557.812866,\n          927.330017\n        ],\n        \"semantic_type\": \"\",\n        \"description\": \"\"\n      }\n    },\n    {\n      \"column\": \"Adj Close\",\n      \"properties\": {\n        \"dtype\": \"number\",\n        \"std\": 175.82099273815913,\n        \"min\": 349.164032,\n        \"max\": 1077.140015,\n        \"num_unique_values\": 1245,\n        \"samples\": [\n          749.460022,\n          557.812866,\n          927.330017\n        ],\n        \"semantic_type\": \"\",\n        \"description\": \"\"\n      }\n    },\n    {\n      \"column\": \"Volume\",\n      \"properties\": {\n        \"dtype\": \"number\",\n        \"std\": 1672159,\n        \"min\": 7900,\n        \"max\": 23283100,\n        \"num_unique_values\": 1228,\n        \"samples\": [\n          1837200,\n          2000000,\n          1477800\n        ],\n        \"semantic_type\": \"\",\n        \"description\": \"\"\n      }\n    }\n  ]\n}"
            }
          },
          "metadata": {},
          "execution_count": 6
        }
      ]
    },
    {
      "cell_type": "code",
      "source": [
        "train_set = dataset_train.iloc[:,1:2].values\n"
      ],
      "metadata": {
        "id": "DYJYih5P0SKo"
      },
      "execution_count": 7,
      "outputs": []
    },
    {
      "cell_type": "code",
      "source": [
        "type(train_set)\n"
      ],
      "metadata": {
        "colab": {
          "base_uri": "https://localhost:8080/"
        },
        "id": "XLZf61Wm0bNo",
        "outputId": "f567619c-58e8-491e-d863-21b82ba069dd"
      },
      "execution_count": 8,
      "outputs": [
        {
          "output_type": "execute_result",
          "data": {
            "text/plain": [
              "numpy.ndarray"
            ]
          },
          "metadata": {},
          "execution_count": 8
        }
      ]
    },
    {
      "cell_type": "code",
      "source": [
        "type(train_set)\n"
      ],
      "metadata": {
        "colab": {
          "base_uri": "https://localhost:8080/"
        },
        "id": "TAvj9U440gHl",
        "outputId": "30e74db2-4bdd-45dc-b267-1584a8d154b2"
      },
      "execution_count": 9,
      "outputs": [
        {
          "output_type": "execute_result",
          "data": {
            "text/plain": [
              "numpy.ndarray"
            ]
          },
          "metadata": {},
          "execution_count": 9
        }
      ]
    },
    {
      "cell_type": "code",
      "source": [
        "train_set.shape\n"
      ],
      "metadata": {
        "colab": {
          "base_uri": "https://localhost:8080/"
        },
        "id": "h-IxoHnO0njN",
        "outputId": "ed4c5ef3-bd2a-48af-b7c7-bc7286597036"
      },
      "execution_count": 10,
      "outputs": [
        {
          "output_type": "execute_result",
          "data": {
            "text/plain": [
              "(1259, 1)"
            ]
          },
          "metadata": {},
          "execution_count": 10
        }
      ]
    },
    {
      "cell_type": "code",
      "source": [
        "sc = MinMaxScaler(feature_range=(0,1))\n",
        "training_set_scaled = sc.fit_transform(train_set)"
      ],
      "metadata": {
        "id": "31D8YOsh0pTE"
      },
      "execution_count": 11,
      "outputs": []
    },
    {
      "cell_type": "code",
      "source": [
        "training_set_scaled.shape\n"
      ],
      "metadata": {
        "colab": {
          "base_uri": "https://localhost:8080/"
        },
        "id": "TEPP699l0tyj",
        "outputId": "08b79c0e-1643-4451-f532-6be2900e04a0"
      },
      "execution_count": 12,
      "outputs": [
        {
          "output_type": "execute_result",
          "data": {
            "text/plain": [
              "(1259, 1)"
            ]
          },
          "metadata": {},
          "execution_count": 12
        }
      ]
    },
    {
      "cell_type": "code",
      "source": [
        "X_train_array = []\n",
        "y_train_array = []\n",
        "for i in range(60, 1259):\n",
        "  X_train_array.append(training_set_scaled[i-60:i,0])\n",
        "  y_train_array.append(training_set_scaled[i,0])\n",
        "X_train, y_train = np.array(X_train_array), np.array(y_train_array)\n",
        "X_train1 = X_train.reshape((X_train.shape[0], X_train.shape[1],1))"
      ],
      "metadata": {
        "id": "I60P8ku20wca"
      },
      "execution_count": 13,
      "outputs": []
    },
    {
      "cell_type": "code",
      "source": [
        "X_train.shape\n"
      ],
      "metadata": {
        "colab": {
          "base_uri": "https://localhost:8080/"
        },
        "id": "zJRXnsg100Vh",
        "outputId": "05ee9f6b-dbeb-4e86-d821-65a9472d986a"
      },
      "execution_count": 14,
      "outputs": [
        {
          "output_type": "execute_result",
          "data": {
            "text/plain": [
              "(1199, 60)"
            ]
          },
          "metadata": {},
          "execution_count": 14
        }
      ]
    },
    {
      "cell_type": "code",
      "source": [
        "\n",
        "length = 60\n",
        "n_features = 1"
      ],
      "metadata": {
        "id": "IJVuSKEE030i"
      },
      "execution_count": 15,
      "outputs": []
    },
    {
      "source": [
        "model = Sequential()\n",
        "from tensorflow.keras.layers import Dense\n",
        "model = Sequential([\n",
        "    Dense(64, input_shape=X_train.shape[1:], activation=\"relu\"),\n",
        "    Dense(32, activation='tanh'),\n",
        "    Dense(16, activation='relu'),\n",
        "    Dense(8, activation='tanh'),\n",
        "    Dense(4, activation='softmax'),\n",
        "])\n",
        "\n",
        "model.compile(optimizer='adam', loss='mse')"
      ],
      "cell_type": "code",
      "metadata": {
        "id": "6OquRf6S3I6p"
      },
      "execution_count": 16,
      "outputs": []
    },
    {
      "cell_type": "code",
      "source": [
        "model.summary()\n"
      ],
      "metadata": {
        "colab": {
          "base_uri": "https://localhost:8080/"
        },
        "id": "apFaqkCa1eRw",
        "outputId": "b3633c65-9897-4ba9-d37d-e7e6e552abb1"
      },
      "execution_count": 17,
      "outputs": [
        {
          "output_type": "stream",
          "name": "stdout",
          "text": [
            "Model: \"sequential_1\"\n",
            "_________________________________________________________________\n",
            " Layer (type)                Output Shape              Param #   \n",
            "=================================================================\n",
            " dense (Dense)               (None, 64)                3904      \n",
            "                                                                 \n",
            " dense_1 (Dense)             (None, 32)                2080      \n",
            "                                                                 \n",
            " dense_2 (Dense)             (None, 16)                528       \n",
            "                                                                 \n",
            " dense_3 (Dense)             (None, 8)                 136       \n",
            "                                                                 \n",
            " dense_4 (Dense)             (None, 4)                 36        \n",
            "                                                                 \n",
            "=================================================================\n",
            "Total params: 6684 (26.11 KB)\n",
            "Trainable params: 6684 (26.11 KB)\n",
            "Non-trainable params: 0 (0.00 Byte)\n",
            "_________________________________________________________________\n"
          ]
        }
      ]
    },
    {
      "cell_type": "code",
      "source": [
        "model.fit(X_train1,y_train,epochs=100, batch_size=32)"
      ],
      "metadata": {
        "colab": {
          "base_uri": "https://localhost:8080/"
        },
        "id": "3HsUzGHP3QXH",
        "outputId": "2f070e59-17f7-459d-a205-4159f8699c48"
      },
      "execution_count": 18,
      "outputs": [
        {
          "output_type": "stream",
          "name": "stdout",
          "text": [
            "Epoch 1/100\n",
            "38/38 [==============================] - 2s 2ms/step - loss: 0.0891\n",
            "Epoch 2/100\n",
            "38/38 [==============================] - 0s 2ms/step - loss: 0.0889\n",
            "Epoch 3/100\n",
            "38/38 [==============================] - 0s 2ms/step - loss: 0.0889\n",
            "Epoch 4/100\n",
            "38/38 [==============================] - 0s 2ms/step - loss: 0.0889\n",
            "Epoch 5/100\n",
            "38/38 [==============================] - 0s 2ms/step - loss: 0.0889\n",
            "Epoch 6/100\n",
            "38/38 [==============================] - 0s 2ms/step - loss: 0.0889\n",
            "Epoch 7/100\n",
            "38/38 [==============================] - 0s 2ms/step - loss: 0.0889\n",
            "Epoch 8/100\n",
            "38/38 [==============================] - 0s 3ms/step - loss: 0.0889\n",
            "Epoch 9/100\n",
            "38/38 [==============================] - 0s 2ms/step - loss: 0.0889\n",
            "Epoch 10/100\n",
            "38/38 [==============================] - 0s 2ms/step - loss: 0.0889\n",
            "Epoch 11/100\n",
            "38/38 [==============================] - 0s 2ms/step - loss: 0.0889\n",
            "Epoch 12/100\n",
            "38/38 [==============================] - 0s 2ms/step - loss: 0.0889\n",
            "Epoch 13/100\n",
            "38/38 [==============================] - 0s 2ms/step - loss: 0.0889\n",
            "Epoch 14/100\n",
            "38/38 [==============================] - 0s 2ms/step - loss: 0.0889\n",
            "Epoch 15/100\n",
            "38/38 [==============================] - 0s 2ms/step - loss: 0.0889\n",
            "Epoch 16/100\n",
            "38/38 [==============================] - 0s 2ms/step - loss: 0.0889\n",
            "Epoch 17/100\n",
            "38/38 [==============================] - 0s 2ms/step - loss: 0.0889\n",
            "Epoch 18/100\n",
            "38/38 [==============================] - 0s 2ms/step - loss: 0.0889\n",
            "Epoch 19/100\n",
            "38/38 [==============================] - 0s 3ms/step - loss: 0.0889\n",
            "Epoch 20/100\n",
            "38/38 [==============================] - 0s 3ms/step - loss: 0.0889\n",
            "Epoch 21/100\n",
            "38/38 [==============================] - 0s 2ms/step - loss: 0.0889\n",
            "Epoch 22/100\n",
            "38/38 [==============================] - 0s 2ms/step - loss: 0.0889\n",
            "Epoch 23/100\n",
            "38/38 [==============================] - 0s 2ms/step - loss: 0.0889\n",
            "Epoch 24/100\n",
            "38/38 [==============================] - 0s 3ms/step - loss: 0.0889\n",
            "Epoch 25/100\n",
            "38/38 [==============================] - 0s 4ms/step - loss: 0.0889\n",
            "Epoch 26/100\n",
            "38/38 [==============================] - 0s 4ms/step - loss: 0.0889\n",
            "Epoch 27/100\n",
            "38/38 [==============================] - 0s 3ms/step - loss: 0.0889\n",
            "Epoch 28/100\n",
            "38/38 [==============================] - 0s 3ms/step - loss: 0.0889\n",
            "Epoch 29/100\n",
            "38/38 [==============================] - 0s 3ms/step - loss: 0.0889\n",
            "Epoch 30/100\n",
            "38/38 [==============================] - 0s 3ms/step - loss: 0.0889\n",
            "Epoch 31/100\n",
            "38/38 [==============================] - 0s 3ms/step - loss: 0.0889\n",
            "Epoch 32/100\n",
            "38/38 [==============================] - 0s 4ms/step - loss: 0.0889\n",
            "Epoch 33/100\n",
            "38/38 [==============================] - 0s 3ms/step - loss: 0.0889\n",
            "Epoch 34/100\n",
            "38/38 [==============================] - 0s 3ms/step - loss: 0.0889\n",
            "Epoch 35/100\n",
            "38/38 [==============================] - 0s 3ms/step - loss: 0.0889\n",
            "Epoch 36/100\n",
            "38/38 [==============================] - 0s 3ms/step - loss: 0.0889\n",
            "Epoch 37/100\n",
            "38/38 [==============================] - 0s 3ms/step - loss: 0.0889\n",
            "Epoch 38/100\n",
            "38/38 [==============================] - 0s 3ms/step - loss: 0.0889\n",
            "Epoch 39/100\n",
            "38/38 [==============================] - 0s 4ms/step - loss: 0.0889\n",
            "Epoch 40/100\n",
            "38/38 [==============================] - 0s 4ms/step - loss: 0.0889\n",
            "Epoch 41/100\n",
            "38/38 [==============================] - 0s 4ms/step - loss: 0.0889\n",
            "Epoch 42/100\n",
            "38/38 [==============================] - 0s 3ms/step - loss: 0.0889\n",
            "Epoch 43/100\n",
            "38/38 [==============================] - 0s 4ms/step - loss: 0.0889\n",
            "Epoch 44/100\n",
            "38/38 [==============================] - 0s 4ms/step - loss: 0.0889\n",
            "Epoch 45/100\n",
            "38/38 [==============================] - 0s 4ms/step - loss: 0.0889\n",
            "Epoch 46/100\n",
            "38/38 [==============================] - 0s 2ms/step - loss: 0.0889\n",
            "Epoch 47/100\n",
            "38/38 [==============================] - 0s 2ms/step - loss: 0.0889\n",
            "Epoch 48/100\n",
            "38/38 [==============================] - 0s 2ms/step - loss: 0.0889\n",
            "Epoch 49/100\n",
            "38/38 [==============================] - 0s 2ms/step - loss: 0.0889\n",
            "Epoch 50/100\n",
            "38/38 [==============================] - 0s 2ms/step - loss: 0.0889\n",
            "Epoch 51/100\n",
            "38/38 [==============================] - 0s 2ms/step - loss: 0.0889\n",
            "Epoch 52/100\n",
            "38/38 [==============================] - 0s 2ms/step - loss: 0.0889\n",
            "Epoch 53/100\n",
            "38/38 [==============================] - 0s 2ms/step - loss: 0.0889\n",
            "Epoch 54/100\n",
            "38/38 [==============================] - 0s 3ms/step - loss: 0.0889\n",
            "Epoch 55/100\n",
            "38/38 [==============================] - 0s 2ms/step - loss: 0.0889\n",
            "Epoch 56/100\n",
            "38/38 [==============================] - 0s 2ms/step - loss: 0.0889\n",
            "Epoch 57/100\n",
            "38/38 [==============================] - 0s 2ms/step - loss: 0.0889\n",
            "Epoch 58/100\n",
            "38/38 [==============================] - 0s 2ms/step - loss: 0.0889\n",
            "Epoch 59/100\n",
            "38/38 [==============================] - 0s 2ms/step - loss: 0.0889\n",
            "Epoch 60/100\n",
            "38/38 [==============================] - 0s 2ms/step - loss: 0.0889\n",
            "Epoch 61/100\n",
            "38/38 [==============================] - 0s 2ms/step - loss: 0.0889\n",
            "Epoch 62/100\n",
            "38/38 [==============================] - 0s 2ms/step - loss: 0.0889\n",
            "Epoch 63/100\n",
            "38/38 [==============================] - 0s 2ms/step - loss: 0.0889\n",
            "Epoch 64/100\n",
            "38/38 [==============================] - 0s 2ms/step - loss: 0.0889\n",
            "Epoch 65/100\n",
            "38/38 [==============================] - 0s 2ms/step - loss: 0.0889\n",
            "Epoch 66/100\n",
            "38/38 [==============================] - 0s 2ms/step - loss: 0.0889\n",
            "Epoch 67/100\n",
            "38/38 [==============================] - 0s 2ms/step - loss: 0.0889\n",
            "Epoch 68/100\n",
            "38/38 [==============================] - 0s 2ms/step - loss: 0.0889\n",
            "Epoch 69/100\n",
            "38/38 [==============================] - 0s 2ms/step - loss: 0.0889\n",
            "Epoch 70/100\n",
            "38/38 [==============================] - 0s 2ms/step - loss: 0.0889\n",
            "Epoch 71/100\n",
            "38/38 [==============================] - 0s 2ms/step - loss: 0.0889\n",
            "Epoch 72/100\n",
            "38/38 [==============================] - 0s 2ms/step - loss: 0.0889\n",
            "Epoch 73/100\n",
            "38/38 [==============================] - 0s 2ms/step - loss: 0.0889\n",
            "Epoch 74/100\n",
            "38/38 [==============================] - 0s 2ms/step - loss: 0.0889\n",
            "Epoch 75/100\n",
            "38/38 [==============================] - 0s 2ms/step - loss: 0.0889\n",
            "Epoch 76/100\n",
            "38/38 [==============================] - 0s 3ms/step - loss: 0.0889\n",
            "Epoch 77/100\n",
            "38/38 [==============================] - 0s 2ms/step - loss: 0.0889\n",
            "Epoch 78/100\n",
            "38/38 [==============================] - 0s 2ms/step - loss: 0.0889\n",
            "Epoch 79/100\n",
            "38/38 [==============================] - 0s 2ms/step - loss: 0.0889\n",
            "Epoch 80/100\n",
            "38/38 [==============================] - 0s 2ms/step - loss: 0.0889\n",
            "Epoch 81/100\n",
            "38/38 [==============================] - 0s 2ms/step - loss: 0.0889\n",
            "Epoch 82/100\n",
            "38/38 [==============================] - 0s 2ms/step - loss: 0.0889\n",
            "Epoch 83/100\n",
            "38/38 [==============================] - 0s 2ms/step - loss: 0.0889\n",
            "Epoch 84/100\n",
            "38/38 [==============================] - 0s 2ms/step - loss: 0.0889\n",
            "Epoch 85/100\n",
            "38/38 [==============================] - 0s 2ms/step - loss: 0.0889\n",
            "Epoch 86/100\n",
            "38/38 [==============================] - 0s 2ms/step - loss: 0.0889\n",
            "Epoch 87/100\n",
            "38/38 [==============================] - 0s 2ms/step - loss: 0.0889\n",
            "Epoch 88/100\n",
            "38/38 [==============================] - 0s 2ms/step - loss: 0.0889\n",
            "Epoch 89/100\n",
            "38/38 [==============================] - 0s 2ms/step - loss: 0.0889\n",
            "Epoch 90/100\n",
            "38/38 [==============================] - 0s 2ms/step - loss: 0.0889\n",
            "Epoch 91/100\n",
            "38/38 [==============================] - 0s 2ms/step - loss: 0.0889\n",
            "Epoch 92/100\n",
            "38/38 [==============================] - 0s 2ms/step - loss: 0.0889\n",
            "Epoch 93/100\n",
            "38/38 [==============================] - 0s 2ms/step - loss: 0.0889\n",
            "Epoch 94/100\n",
            "38/38 [==============================] - 0s 2ms/step - loss: 0.0889\n",
            "Epoch 95/100\n",
            "38/38 [==============================] - 0s 2ms/step - loss: 0.0889\n",
            "Epoch 96/100\n",
            "38/38 [==============================] - 0s 2ms/step - loss: 0.0889\n",
            "Epoch 97/100\n",
            "38/38 [==============================] - 0s 2ms/step - loss: 0.0889\n",
            "Epoch 98/100\n",
            "38/38 [==============================] - 0s 2ms/step - loss: 0.0889\n",
            "Epoch 99/100\n",
            "38/38 [==============================] - 0s 2ms/step - loss: 0.0889\n",
            "Epoch 100/100\n",
            "38/38 [==============================] - 0s 2ms/step - loss: 0.0889\n"
          ]
        },
        {
          "output_type": "execute_result",
          "data": {
            "text/plain": [
              "<keras.src.callbacks.History at 0x7edd437978b0>"
            ]
          },
          "metadata": {},
          "execution_count": 18
        }
      ]
    },
    {
      "cell_type": "code",
      "source": [
        "dataset_test = pd.read_csv('testset.csv')\n"
      ],
      "metadata": {
        "id": "B6-LOma03SF6"
      },
      "execution_count": 19,
      "outputs": []
    },
    {
      "cell_type": "code",
      "source": [
        "test_set.shape\n"
      ],
      "metadata": {
        "colab": {
          "base_uri": "https://localhost:8080/"
        },
        "id": "RKEjReY73upz",
        "outputId": "147a94ee-7d79-4d79-9989-41097c65a63e"
      },
      "execution_count": 22,
      "outputs": [
        {
          "output_type": "execute_result",
          "data": {
            "text/plain": [
              "(125, 1)"
            ]
          },
          "metadata": {},
          "execution_count": 22
        }
      ]
    },
    {
      "cell_type": "code",
      "source": [
        "test_set = dataset_test.iloc[:,1:2].values\n"
      ],
      "metadata": {
        "id": "SxvByUFT4JmX"
      },
      "execution_count": 21,
      "outputs": []
    },
    {
      "cell_type": "code",
      "source": [
        "dataset_total = pd.concat((dataset_train['Open'],dataset_test['Open']),axis=0)\n"
      ],
      "metadata": {
        "id": "wq5q0Hu04OFV"
      },
      "execution_count": 23,
      "outputs": []
    },
    {
      "cell_type": "code",
      "source": [
        "inputs = dataset_total.values\n",
        "inputs = inputs.reshape(-1,1)\n",
        "inputs_scaled=sc.transform(inputs)\n",
        "X_test = []\n",
        "for i in range(60,1384):\n",
        "  X_test.append(inputs_scaled[i-60:i,0])\n",
        "X_test = np.array(X_test)\n",
        "X_test = np.reshape(X_test,(X_test.shape[0], X_test.shape[1],1))"
      ],
      "metadata": {
        "id": "1IIrbknR4g0I"
      },
      "execution_count": 24,
      "outputs": []
    },
    {
      "cell_type": "code",
      "source": [
        "X_test.shape\n"
      ],
      "metadata": {
        "colab": {
          "base_uri": "https://localhost:8080/"
        },
        "id": "Y3yVVjm94kWd",
        "outputId": "d5a13487-227e-4986-e4ce-d950f616ce8c"
      },
      "execution_count": 25,
      "outputs": [
        {
          "output_type": "execute_result",
          "data": {
            "text/plain": [
              "(1324, 60, 1)"
            ]
          },
          "metadata": {},
          "execution_count": 25
        }
      ]
    },
    {
      "cell_type": "code",
      "source": [
        "predicted_stock_price_scaled = model.predict(X_test)\n",
        "predicted_stock_price = sc.inverse_transform(predicted_stock_price_scaled)"
      ],
      "metadata": {
        "colab": {
          "base_uri": "https://localhost:8080/"
        },
        "id": "py2mmevu4mIt",
        "outputId": "1de15262-0c4e-49ed-94c0-cc46771f2dd2"
      },
      "execution_count": 26,
      "outputs": [
        {
          "output_type": "stream",
          "name": "stdout",
          "text": [
            "42/42 [==============================] - 0s 2ms/step\n"
          ]
        }
      ]
    },
    {
      "cell_type": "code",
      "source": [
        "plt.plot(np.arange(0,1384),inputs, color='red', label = 'Test(Real) Google stock price')\n",
        "plt.plot(np.arange(60,1384),predicted_stock_price, color='blue', label = 'Predicted Google stock price')\n",
        "plt.title('Google Stock Price Prediction')\n",
        "plt.xlabel('Time')\n",
        "plt.ylabel('Google Stock Price')\n",
        "plt.legend()\n",
        "plt.show()"
      ],
      "metadata": {
        "colab": {
          "base_uri": "https://localhost:8080/",
          "height": 472
        },
        "id": "VALL5NUF4tFR",
        "outputId": "fd2bbbaf-ed49-430b-a2e6-4fc534b49f7c"
      },
      "execution_count": 27,
      "outputs": [
        {
          "output_type": "display_data",
          "data": {
            "text/plain": [
              "<Figure size 640x480 with 1 Axes>"
            ],
            "image/png": "[encoded data removed]"
          },
          "metadata": {}
        }
      ]
    }
  ]
}